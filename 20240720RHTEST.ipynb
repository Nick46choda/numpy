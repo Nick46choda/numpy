{
 "cells": [
  {
   "cell_type": "code",
   "execution_count": 23,
   "id": "bfc6351e",
   "metadata": {},
   "outputs": [
    {
     "data": {
      "text/plain": [
       "True"
      ]
     },
     "execution_count": 23,
     "metadata": {},
     "output_type": "execute_result"
    }
   ],
   "source": [
    "import cv2 as cv\n",
    "import numpy as np\n",
    "import math\n",
    "\n",
    "img = cv.imread('TEST-PH.jpeg')\n",
    "img.shape\n",
    "\n",
    "y = img.shape[0]\n",
    "x = img.shape[1]\n",
    "\n",
    "height = math.ceil(y / 2)\n",
    "width = math.ceil(x / 2)\n",
    "\n",
    "top_left = np.full((height, width, 3), 0).astype(np.uint8)\n",
    "top_right = np.full((height, x-width, 3), 0).astype(np.uint8)\n",
    "bottom_left = np.full((y-height, width, 3), 0).astype(np.uint8)\n",
    "bottom_right = np.full((y-height, x-width, 3), 0).astype(np.uint8)\n",
    "top_left_rotated = np.full((height, width, 3), 0).astype(np.uint8)\n",
    "\n",
    "\n",
    "# 定義四象限\n",
    "\n",
    "for i in range(height):\n",
    "    for j in range(width):\n",
    "        top_left[i][j] = img[i][j]\n",
    "        if j < x - width :\n",
    "            top_right[i][j] = img[i][width + j]\n",
    "\n",
    "# 左上部分圖片 180 度旋轉後灰階處理\n",
    "\n",
    "for i in range(height):\n",
    "    for j in range(width):\n",
    "        top_left_rotated[i][j] = top_left[height - 1 - i][width - 1 - j]\n",
    "        \n",
    "top_left_rotated_gray = cv.cvtColor(top_left_rotated, cv.COLOR_BGR2GRAY)\n",
    "top_left_rotated = cv.cvtColor(top_left_rotated_gray, cv.COLOR_GRAY2BGR)\n",
    "\n",
    "#右下部分使用左下部分做Ｘ鏡像\n",
    "\n",
    "for i in range(y - height):\n",
    "    for j in range(width):\n",
    "        bottom_left[i][j] = img[height + i][j]\n",
    "        if j < x - width:\n",
    "            bottom_right[i][j] = img[height + i][width - j] \n",
    "\n",
    "            \n",
    "cv.imwrite('top_left.jpg', top_left_rotated)\n",
    "cv.imwrite('top_right.jpg', top_right)\n",
    "cv.imwrite('bottom_left.jpg', bottom_left)\n",
    "cv.imwrite('bottom_right.jpg', bottom_right)\n",
    "\n",
    "\n",
    "top = np.concatenate((top_left_rotated, top_right), axis=1)\n",
    "bottom = np.concatenate((bottom_left, bottom_right), axis=1)\n",
    "all = np.concatenate((top, bottom), axis=0)\n",
    "\n",
    "\n",
    "cv.imwrite('all.jpg', all)"
   ]
  },
  {
   "cell_type": "code",
   "execution_count": null,
   "id": "505d477f",
   "metadata": {},
   "outputs": [],
   "source": []
  },
  {
   "cell_type": "code",
   "execution_count": null,
   "id": "1e8f051f",
   "metadata": {},
   "outputs": [],
   "source": []
  }
 ],
 "metadata": {
  "kernelspec": {
   "display_name": "Python 3 (ipykernel)",
   "language": "python",
   "name": "python3"
  },
  "language_info": {
   "codemirror_mode": {
    "name": "ipython",
    "version": 3
   },
   "file_extension": ".py",
   "mimetype": "text/x-python",
   "name": "python",
   "nbconvert_exporter": "python",
   "pygments_lexer": "ipython3",
   "version": "3.7.0"
  }
 },
 "nbformat": 4,
 "nbformat_minor": 5
}
