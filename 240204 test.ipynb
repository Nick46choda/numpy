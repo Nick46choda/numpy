{
 "cells": [
  {
   "cell_type": "code",
   "execution_count": 56,
   "id": "c4eec5a9",
   "metadata": {},
   "outputs": [
    {
     "data": {
      "text/plain": [
       "(495, 880, 3)"
      ]
     },
     "execution_count": 56,
     "metadata": {},
     "output_type": "execute_result"
    }
   ],
   "source": [
    "import cv2\n",
    "import numpy as np\n",
    "img = cv2.imread('audi test.jpeg')\n",
    "img.shape"
   ]
  },
  {
   "cell_type": "code",
   "execution_count": 57,
   "id": "68cee1cd",
   "metadata": {},
   "outputs": [],
   "source": [
    "shape = (495, 880, 3) # y, x, RGB\n",
    "test_img = np.full(shape, 255).astype(np.uint8)\n"
   ]
  },
  {
   "cell_type": "code",
   "execution_count": 69,
   "id": "2bd93852",
   "metadata": {},
   "outputs": [
    {
     "data": {
      "text/plain": [
       "True"
      ]
     },
     "execution_count": 69,
     "metadata": {},
     "output_type": "execute_result"
    }
   ],
   "source": [
    "import cv2 as cv\n",
    "import numpy as np\n",
    "import math\n",
    "math.ceil(y/2)\n",
    "math.ceil(x/2)\n",
    "\n",
    "img = cv.imread('audi test.jpeg')\n",
    "y = img.shape[0]\n",
    "x = img.shape[1]\n",
    "top_left = np.full((math.ceil(y/2), math.ceil(x/2), 3), 0).astype(np.uint8) #248*440\n",
    "top_right = np.full((math.ceil(y/2), x-math.ceil(x/2), 3), 0).astype(np.uint8)\n",
    "bottom_left = np.full((y-math.ceil(y/2), math.ceil(x/2), 3), 0).astype(np.uint8) #247*440\n",
    "bottom_right = np.full((y-math.ceil(y/2), x-math.ceil(x/2), 3), 0).astype(np.uint8)\n",
    "\n",
    "\n",
    "count=0\n",
    "for j in range(x//2+1):\n",
    "    for i in range(math.ceil(y/2)):\n",
    "        if i < len(top_left) and j < len(top_left[i]):\n",
    "            top_left[i][j] = img[i][j]\n",
    "        if i < len(top_right) and j < len(top_right[i]):\n",
    "            top_right[i][j] = img[i][math.ceil(x/2)+j]\n",
    "        if i < len(bottom_left) and j < len(bottom_left[i]):\n",
    "            bottom_left[i][j] = img[math.ceil(y/2)+i][j]\n",
    "        if i < len(bottom_right) and j < len(bottom_right[i]):\n",
    "            bottom_right[i][j] = img[math.ceil(y/2)+i][math.ceil(x/2)+j]\n",
    "\n",
    "cv.imwrite('top_left.jpg', top_left)\n",
    "cv.imwrite('top_right.jpg', top_right)\n",
    "cv.imwrite('bottom_left.jpg', bottom_left)\n",
    "cv.imwrite('bottom_right.jpg', bottom_right)\n",
    "top = np.append(bottom_right, bottom_left, axis=1)\n",
    "bottom = np.append(top_right, top_left, axis=1)\n",
    "all = np.append(top, bottom, axis=0)\n",
    "cv.imwrite('top.jpg', top) \n",
    "cv.imwrite('all.jpg', all) \n"
   ]
  },
  {
   "cell_type": "code",
   "execution_count": null,
   "id": "7310d455",
   "metadata": {},
   "outputs": [],
   "source": []
  },
  {
   "cell_type": "code",
   "execution_count": null,
   "id": "f79c4c57",
   "metadata": {},
   "outputs": [],
   "source": []
  }
 ],
 "metadata": {
  "kernelspec": {
   "display_name": "Python 3 (ipykernel)",
   "language": "python",
   "name": "python3"
  },
  "language_info": {
   "codemirror_mode": {
    "name": "ipython",
    "version": 3
   },
   "file_extension": ".py",
   "mimetype": "text/x-python",
   "name": "python",
   "nbconvert_exporter": "python",
   "pygments_lexer": "ipython3",
   "version": "3.7.0"
  }
 },
 "nbformat": 4,
 "nbformat_minor": 5
}
